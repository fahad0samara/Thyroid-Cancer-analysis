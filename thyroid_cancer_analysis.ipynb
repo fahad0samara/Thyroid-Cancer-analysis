{
 "cells": [
  {
   "cell_type": "markdown",
   "metadata": {},
   "source": [
    "# Comprehensive Thyroid Cancer Data Analysis\n",
    "\n",
    "This notebook provides a detailed analysis of thyroid cancer risk factors and patterns using a dataset of 212,691 records.\n",
    "\n",
    "## Table of Contents:\n",
    "1. Data Loading and Initial Exploration\n",
    "2. Basic Statistical Analysis\n",
    "3. Distribution Analysis\n",
    "4. Clinical Measurements Analysis\n",
    "5. Risk Factor Analysis\n",
    "6. Geographic and Demographic Patterns\n",
    "7. Advanced Statistical Analysis\n",
    "8. Machine Learning Models\n",
    "9. Survival Analysis\n",
    "10. Interactive Visualizations"
   ]
  },
  {
   "cell_type": "code",
   "execution_count": null,
   "metadata": {},
   "source": [
    "# Import required libraries\n",
    "import pandas as pd\n",
    "import numpy as np\n",
    "import matplotlib.pyplot as plt\n",
    "import seaborn as sns\n",
    "from scipy import stats\n",
    "from sklearn.preprocessing import StandardScaler, LabelEncoder\n",
    "from sklearn.model_selection import train_test_split, cross_val_score\n",
    "from sklearn.ensemble import RandomForestClassifier, GradientBoostingClassifier\n",
    "from sklearn.metrics import classification_report, confusion_matrix, roc_curve, auc\n",
    "from sklearn.cluster import KMeans\n",
    "from sklearn.decomposition import PCA\n",
    "import plotly.express as px\n",
    "import plotly.graph_objects as go\n",
    "from plotly.subplots import make_subplots\n",
    "import warnings\n",
    "warnings.filterwarnings('ignore')\n",
    "\n",
    "# Set style for better visualizations\n",
    "plt.style.use('seaborn')\n",
    "sns.set_palette(\"husl\")\n",
    "plt.rcParams['figure.figsize'] = [12, 8]"
   ]
  },
  {
   "cell_type": "markdown",
   "metadata": {},
   "source": [
    "## 1. Data Loading and Initial Exploration"
   ]
  },
  {
   "cell_type": "code",
   "execution_count": null,
   "metadata": {},
   "source": [
    "# Read the dataset\n",
    "df = pd.read_csv('thyroid_cancer_risk_data.csv')\n",
    "\n",
    "# Display basic information\n",
    "print(\"Dataset Info:\")\n",
    "print(\"-\" * 50)\n",
    "print(df.info())\n",
    "\n",
    "print(\"\\nSample Data:\")\n",
    "print(\"-\" * 50)\n",
    "display(df.head())\n",
    "\n",
    "print(\"\\nBasic Statistics:\")\n",
    "print(\"-\" * 50)\n",
    "display(df.describe())"
   ]
  },
  {
   "cell_type": "markdown",
   "metadata": {},
   "source": [
    "## 2. Basic Statistical Analysis"
   ]
  },
  {
   "cell_type": "code",
   "execution_count": null,
   "metadata": {},
   "source": [
    "# Define variable categories\n",
    "numerical_vars = ['Age', 'TSH_Level', 'T3_Level', 'T4_Level', 'Nodule_Size']\n",
    "categorical_vars = ['Gender', 'Country', 'Ethnicity', 'Family_History', \n",
    "                   'Radiation_Exposure', 'Iodine_Deficiency', 'Smoking', \n",
    "                   'Obesity', 'Diabetes']\n",
    "\n",
    "# Display categorical variable distributions\n",
    "for var in categorical_vars:\n",
    "    print(f\"\\n{var} Distribution:\")\n",
    "    print(df[var].value_counts(normalize=True).round(3) * 100)\n",
    "    \n",
    "    # Create pie chart\n",
    "    plt.figure(figsize=(10, 6))\n",
    "    plt.pie(df[var].value_counts(), labels=df[var].value_counts().index, autopct='%1.1f%%')\n",
    "    plt.title(f'{var} Distribution')\n",
    "    plt.show()"
   ]
  },
  {
   "cell_type": "markdown",
   "metadata": {},
   "source": [
    "## 3. Distribution Analysis"
   ]
  },
  {
   "cell_type": "code",
   "execution_count": null,
   "metadata": {},
   "source": [
    "# Create distribution plots for numerical variables\n",
    "for var in numerical_vars:\n",
    "    fig = make_subplots(rows=2, cols=2,\n",
    "                        subplot_titles=['Histogram', 'Box Plot', 'Violin Plot', 'KDE Plot'])\n",
    "    \n",
    "    # Histogram\n",
    "    fig.add_trace(\n",
    "        go.Histogram(x=df[var], name='All'),\n",
    "        row=1, col=1\n",
    "    )\n",
    "    \n",
    "    # Box Plot\n",
    "    fig.add_trace(\n",
    "        go.Box(y=df[var], name='All'),\n",
    "        row=1, col=2\n",
    "    )\n",
    "    \n",
    "    # Violin Plot by Diagnosis\n",
    "    fig.add_trace(\n",
    "        go.Violin(y=df[var], x=df['Diagnosis'], name='By Diagnosis'),\n",
    "        row=2, col=1\n",
    "    )\n",
    "    \n",
    "    # KDE Plot\n",
    "    for diagnosis in df['Diagnosis'].unique():\n",
    "        kde = stats.gaussian_kde(df[df['Diagnosis'] == diagnosis][var])\n",
    "        x_range = np.linspace(df[var].min(), df[var].max(), 100)\n",
    "        fig.add_trace(\n",
    "            go.Scatter(x=x_range, y=kde(x_range), name=diagnosis),\n",
    "            row=2, col=2\n",
    "        )\n",
    "    \n",
    "    fig.update_layout(height=800, width=1200, title=f'Distribution Analysis of {var}')\n",
    "    fig.show()"
   ]
  },
  {
   "cell_type": "markdown",
   "metadata": {},
   "source": [
    "## 4. Clinical Measurements Analysis"
   ]
  },
  {
   "cell_type": "code",
   "execution_count": null,
   "metadata": {},
   "source": [
    "# Correlation analysis of clinical measurements\n",
    "clinical_vars = ['TSH_Level', 'T3_Level', 'T4_Level', 'Nodule_Size']\n",
    "correlation = df[clinical_vars].corr()\n",
    "\n",
    "# Create heatmap\n",
    "plt.figure(figsize=(10, 8))\n",
    "sns.heatmap(correlation, annot=True, cmap='coolwarm', center=0)\n",
    "plt.title('Correlation Matrix of Clinical Measurements')\n",
    "plt.show()\n",
    "\n",
    "# Statistical tests for clinical measurements by diagnosis\n",
    "print(\"\\nStatistical Tests for Clinical Measurements:\")\n",
    "for var in clinical_vars:\n",
    "    benign = df[df['Diagnosis'] == 'Benign'][var]\n",
    "    malignant = df[df['Diagnosis'] == 'Malignant'][var]\n",
    "    \n",
    "    # Perform t-test\n",
    "    t_stat, p_val = stats.ttest_ind(benign, malignant)\n",
    "    print(f\"\\n{var}:\")\n",
    "    print(f\"T-statistic: {t_stat:.4f}\")\n",
    "    print(f\"P-value: {p_val:.4e}\")"
   ]
  },
  {
   "cell_type": "markdown",
   "metadata": {},
   "source": [
    "## 5. Risk Factor Analysis"
   ]
  },
  {
   "cell_type": "code",
   "execution_count": null,
   "metadata": {},
   "source": [
    "# Create risk score\n",
    "df['Risk_Score'] = (\n",
    "    (df['Family_History'] == 'Yes').astype(int) * 2 +\n",
    "    (df['Radiation_Exposure'] == 'Yes').astype(int) * 1.5 +\n",
    "    (df['Iodine_Deficiency'] == 'Yes').astype(int) * 1.5 +\n",
    "    (df['Smoking'] == 'Yes').astype(int) +\n",
    "    (df['Obesity'] == 'Yes').astype(int) +\n",
    "    (df['Diabetes'] == 'Yes').astype(int) +\n",
    "    ((df['Nodule_Size'] > df['Nodule_Size'].median()).astype(int) * 1.5)\n",
    ")\n",
    "\n",
    "# Analyze risk score distribution\n",
    "plt.figure(figsize=(12, 6))\n",
    "sns.boxplot(data=df, x='Diagnosis', y='Risk_Score')\n",
    "plt.title('Risk Score Distribution by Diagnosis')\n",
    "plt.show()\n",
    "\n",
    "# Calculate risk ratios\n",
    "print(\"\\nRisk Ratios for Different Factors:\")\n",
    "for factor in categorical_vars[3:]:  # Skip demographic variables\n",
    "    risk_ratio = (\n",
    "        df[df[factor] == 'Yes']['Diagnosis'].value_counts(normalize=True)['Malignant'] /\n",
    "        df[df[factor] == 'No']['Diagnosis'].value_counts(normalize=True)['Malignant']\n",
    "    )\n",
    "    print(f\"\\n{factor}:\")\n",
    "    print(f\"Risk Ratio: {risk_ratio:.2f}x\")"
   ]
  },
  {
   "cell_type": "markdown",
   "metadata": {},
   "source": [
    "## 6. Geographic and Demographic Patterns"
   ]
  },
  {
   "cell_type": "code",
   "execution_count": null,
   "metadata": {},
   "source": [
    "# Analyze geographic patterns\n",
    "country_stats = df.groupby('Country').agg({\n",
    "    'Diagnosis': lambda x: (x == 'Malignant').mean(),\n",
    "    'Age': 'mean',\n",
    "    'TSH_Level': 'mean',\n",
    "    'Risk_Score': 'mean'\n",
    "}).round(3)\n",
    "\n",
    "# Create interactive choropleth map\n",
    "fig = px.bar(country_stats.reset_index(), \n",
    "             x='Country', \n",
    "             y='Diagnosis',\n",
    "             title='Malignancy Rates by Country',\n",
    "             labels={'Diagnosis': 'Malignancy Rate'})\n",
    "fig.show()\n",
    "\n",
    "# Demographic analysis\n",
    "demographic_vars = ['Gender', 'Ethnicity', 'Age']\n",
    "for var in demographic_vars:\n",
    "    if var != 'Age':\n",
    "        plt.figure(figsize=(10, 6))\n",
    "        sns.barplot(data=df, x=var, y=(df['Diagnosis'] == 'Malignant').astype(int))\n",
    "        plt.title(f'Malignancy Rate by {var}')\n",
    "        plt.ylabel('Malignancy Rate')\n",
    "        plt.show()"
   ]
  },
  {
   "cell_type": "markdown",
   "metadata": {},
   "source": [
    "## 7. Advanced Statistical Analysis"
   ]
  },
  {
   "cell_type": "code",
   "execution_count": null,
   "metadata": {},
   "source": [
    "# Perform PCA on numerical variables\n",
    "scaler = StandardScaler()\n",
    "pca = PCA(n_components=2)\n",
    "numerical_scaled = scaler.fit_transform(df[numerical_vars])\n",
    "pca_result = pca.fit_transform(numerical_scaled)\n",
    "\n",
    "# Create PCA plot\n",
    "plt.figure(figsize=(10, 8))\n",
    "plt.scatter(pca_result[df['Diagnosis'] == 'Benign', 0],\n",
    "            pca_result[df['Diagnosis'] == 'Benign', 1],\n",
    "            alpha=0.5, label='Benign')\n",
    "plt.scatter(pca_result[df['Diagnosis'] == 'Malignant', 0],\n",
    "            pca_result[df['Diagnosis'] == 'Malignant', 1],\n",
    "            alpha=0.5, label='Malignant')\n",
    "plt.xlabel('First Principal Component')\n",
    "plt.ylabel('Second Principal Component')\n",
    "plt.title('PCA of Numerical Variables')\n",
    "plt.legend()\n",
    "plt.show()\n",
    "\n",
    "# Explained variance ratio\n",
    "print(\"\\nPCA Explained Variance Ratio:\")\n",
    "print(pca.explained_variance_ratio_)"
   ]
  },
  {
   "cell_type": "markdown",
   "metadata": {},
   "source": [
    "## 8. Machine Learning Models"
   ]
  },
  {
   "cell_type": "code",
   "execution_count": null,
   "metadata": {},
   "source": [
    "# Prepare data for machine learning\n",
    "le = LabelEncoder()\n",
    "X = df[categorical_vars + clinical_vars].copy()\n",
    "for col in categorical_vars:\n",
    "    X[col] = le.fit_transform(X[col])\n",
    "y = le.fit_transform(df['Diagnosis'])\n",
    "\n",
    "# Split data\n",
    "X_train, X_test, y_train, y_test = train_test_split(X, y, test_size=0.2, random_state=42)\n",
    "\n",
    "# Train and evaluate models\n",
    "models = {\n",
    "    'Random Forest': RandomForestClassifier(n_estimators=100, random_state=42),\n",
    "    'Gradient Boosting': GradientBoostingClassifier(n_estimators=100, random_state=42)\n",
    "}\n",
    "\n",
    "for name, model in models.items():\n",
    "    print(f\"\\n{name} Results:\")\n",
    "    print(\"-\" * 50)\n",
    "    \n",
    "    # Cross-validation\n",
    "    cv_scores = cross_val_score(model, X_train, y_train, cv=5)\n",
    "    print(f\"Cross-validation scores: {cv_scores}\")\n",
    "    print(f\"Mean CV score: {cv_scores.mean():.3f} (+/- {cv_scores.std() * 2:.3f})\")\n",
    "    \n",
    "    # Train and evaluate\n",
    "    model.fit(X_train, y_train)\n",
    "    y_pred = model.predict(X_test)\n",
    "    print(\"\\nClassification Report:\")\n",
    "    print(classification_report(y_test, y_pred))\n",
    "    \n",
    "    # Feature importance\n",
    "    importance = pd.DataFrame({\n",
    "        'Feature': X.columns,\n",
    "        'Importance': model.feature_importances_\n",
    "    }).sort_values('Importance', ascending=False)\n",
    "    \n",
    "    plt.figure(figsize=(12, 6))\n",
    "    sns.barplot(data=importance, x='Importance', y='Feature')\n",
    "    plt.title(f'Feature Importance - {name}')\n",
    "    plt.show()"
   ]
  },
  {
   "cell_type": "markdown",
   "metadata": {},
   "source": [
    "## 9. Survival Analysis"
   ]
  },
  {
   "cell_type": "code",
   "execution_count": null,
   "metadata": {},
   "source": [
    "# Create age groups for survival analysis\n",
    "df['AgeGroup'] = pd.cut(df['Age'], bins=[0, 30, 45, 60, 75, 100], \n",
    "                       labels=['<30', '30-45', '45-60', '60-75', '>75'])\n",
    "\n",
    "# Analyze survival rates by age group and risk factors\n",
    "survival_analysis = df.groupby(['AgeGroup', 'Risk_Score'])['Diagnosis'].value_counts(normalize=True).unstack()\n",
    "\n",
    "# Plot survival curves\n",
    "plt.figure(figsize=(12, 6))\n",
    "for age_group in df['AgeGroup'].unique():\n",
    "    group_data = survival_analysis.loc[age_group]\n",
    "    plt.plot(group_data.index, group_data['Benign'], label=age_group)\n",
    "\n",
    "plt.xlabel('Risk Score')\n",
    "plt.ylabel('Survival Probability')\n",
    "plt.title('Survival Curves by Age Group')\n",
    "plt.legend()\n",
    "plt.grid(True)\n",
    "plt.show()"
   ]
  },
  {
   "cell_type": "markdown",
   "metadata": {},
   "source": [
    "## 10. Interactive Visualizations"
   ]
  },
  {
   "cell_type": "code",
   "execution_count": null,
   "metadata": {},
   "source": [
    "# Create interactive scatter plot matrix\n",
    "fig = px.scatter_matrix(df,\n",
    "                        dimensions=clinical_vars,\n",
    "                        color='Diagnosis',\n",
    "                        title='Interactive Scatter Matrix of Clinical Measurements')\n",
    "fig.show()\n",
    "\n",
    "# Create 3D scatter plot\n",
    "fig = px.scatter_3d(df,\n",
    "                    x='TSH_Level',\n",
    "                    y='T3_Level',\n",
    "                    z='T4_Level',\n",
    "                    color='Diagnosis',\n",
    "                    size='Nodule_Size',\n",
    "                    title='3D Visualization of Thyroid Hormone Levels')\n",
    "fig.show()\n",
    "\n",
    "# Create parallel coordinates plot\n",
    "fig = px.parallel_coordinates(df,\n",
    "                             dimensions=clinical_vars + ['Risk_Score'],\n",
    "                             color='Diagnosis',\n",
    "                             title='Parallel Coordinates Plot of Clinical Measurements')\n",
    "fig.show()"
   ]
  }
 ],
 "metadata": {
  "kernelspec": {
   "display_name": "Python 3",
   "language": "python",
   "name": "python3"
  },
  "language_info": {
   "codemirror_mode": {
    "name": "ipython",
    "version": 3
   },
   "file_extension": ".py",
   "mimetype": "text/x-python",
   "name": "python",
   "nbconvert_exporter": "python",
   "pygments_lexer": "ipython3",
   "version": "3.8.0"
  }
 },
 "nbformat": 4,
 "nbformat_minor": 4
}
